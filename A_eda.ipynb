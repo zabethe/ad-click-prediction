{
 "cells": [
  {
   "cell_type": "markdown",
   "metadata": {},
   "source": [
    "# Exploratory Data Analysis\n",
    "\n",
    "In this notebook, we will be importing the data and conducting EDA to evaluate our most pertinent features.\n",
    "\n",
    "The following code will be processed in [A_eda.py](/py_scripts/A_eda.py). Always remember to update <u>A_eda.py</u> with any updates to this notebook."
   ]
  },
  {
   "cell_type": "code",
   "execution_count": 1,
   "metadata": {},
   "outputs": [],
   "source": [
    "# Importing libraries\n",
    "from pathlib import Path\n",
    "\n",
    "import pandas as pd\n",
    "import numpy as np\n",
    "import math\n",
    "\n",
    "import matplotlib.pyplot as plt\n",
    "import seaborn as sns\n",
    "\n",
    "from IPython.display import display"
   ]
  },
  {
   "cell_type": "code",
   "execution_count": 2,
   "metadata": {},
   "outputs": [],
   "source": [
    "# SAVE_FIG: a function to save any visualizations in the \"plots\" folder\n",
    "IMAGES_PATH = Path() / \"plots\"\n",
    "\n",
    "def save_fig(fig_name, tight_layout=True, fig_extension=\"png\", resolution=300):\n",
    "    path = IMAGES_PATH / f\"{fig_name}.{fig_extension}\"\n",
    "    if tight_layout:\n",
    "        plt.tight_layout()\n",
    "    plt.savefig(path, format=fig_extension, dpi=resolution)"
   ]
  },
  {
   "cell_type": "code",
   "execution_count": 3,
   "metadata": {},
   "outputs": [],
   "source": [
    "# Importing data\n",
    "adclicks = pd.read_csv(\"data/ad_click_dataset.csv\")"
   ]
  },
  {
   "cell_type": "markdown",
   "metadata": {},
   "source": [
    "***\n",
    "\n",
    "## Overview of Data Structure\n",
    "\n",
    "We will be examining the data and its underlying structure."
   ]
  },
  {
   "cell_type": "code",
   "execution_count": 4,
   "metadata": {},
   "outputs": [
    {
     "data": {
      "text/html": [
       "<div>\n",
       "<style scoped>\n",
       "    .dataframe tbody tr th:only-of-type {\n",
       "        vertical-align: middle;\n",
       "    }\n",
       "\n",
       "    .dataframe tbody tr th {\n",
       "        vertical-align: top;\n",
       "    }\n",
       "\n",
       "    .dataframe thead th {\n",
       "        text-align: right;\n",
       "    }\n",
       "</style>\n",
       "<table border=\"1\" class=\"dataframe\">\n",
       "  <thead>\n",
       "    <tr style=\"text-align: right;\">\n",
       "      <th></th>\n",
       "      <th>id</th>\n",
       "      <th>full_name</th>\n",
       "      <th>age</th>\n",
       "      <th>gender</th>\n",
       "      <th>device_type</th>\n",
       "      <th>ad_position</th>\n",
       "      <th>browsing_history</th>\n",
       "      <th>time_of_day</th>\n",
       "      <th>click</th>\n",
       "    </tr>\n",
       "  </thead>\n",
       "  <tbody>\n",
       "    <tr>\n",
       "      <th>0</th>\n",
       "      <td>670</td>\n",
       "      <td>User670</td>\n",
       "      <td>22.0</td>\n",
       "      <td>NaN</td>\n",
       "      <td>Desktop</td>\n",
       "      <td>Top</td>\n",
       "      <td>Shopping</td>\n",
       "      <td>Afternoon</td>\n",
       "      <td>1</td>\n",
       "    </tr>\n",
       "    <tr>\n",
       "      <th>1</th>\n",
       "      <td>3044</td>\n",
       "      <td>User3044</td>\n",
       "      <td>NaN</td>\n",
       "      <td>Male</td>\n",
       "      <td>Desktop</td>\n",
       "      <td>Top</td>\n",
       "      <td>NaN</td>\n",
       "      <td>NaN</td>\n",
       "      <td>1</td>\n",
       "    </tr>\n",
       "    <tr>\n",
       "      <th>2</th>\n",
       "      <td>5912</td>\n",
       "      <td>User5912</td>\n",
       "      <td>41.0</td>\n",
       "      <td>Non-Binary</td>\n",
       "      <td>NaN</td>\n",
       "      <td>Side</td>\n",
       "      <td>Education</td>\n",
       "      <td>Night</td>\n",
       "      <td>1</td>\n",
       "    </tr>\n",
       "    <tr>\n",
       "      <th>3</th>\n",
       "      <td>5418</td>\n",
       "      <td>User5418</td>\n",
       "      <td>34.0</td>\n",
       "      <td>Male</td>\n",
       "      <td>NaN</td>\n",
       "      <td>NaN</td>\n",
       "      <td>Entertainment</td>\n",
       "      <td>Evening</td>\n",
       "      <td>1</td>\n",
       "    </tr>\n",
       "    <tr>\n",
       "      <th>4</th>\n",
       "      <td>9452</td>\n",
       "      <td>User9452</td>\n",
       "      <td>39.0</td>\n",
       "      <td>Non-Binary</td>\n",
       "      <td>NaN</td>\n",
       "      <td>NaN</td>\n",
       "      <td>Social Media</td>\n",
       "      <td>Morning</td>\n",
       "      <td>0</td>\n",
       "    </tr>\n",
       "    <tr>\n",
       "      <th>5</th>\n",
       "      <td>5942</td>\n",
       "      <td>User5942</td>\n",
       "      <td>NaN</td>\n",
       "      <td>Non-Binary</td>\n",
       "      <td>NaN</td>\n",
       "      <td>Bottom</td>\n",
       "      <td>Social Media</td>\n",
       "      <td>Evening</td>\n",
       "      <td>1</td>\n",
       "    </tr>\n",
       "    <tr>\n",
       "      <th>6</th>\n",
       "      <td>7808</td>\n",
       "      <td>User7808</td>\n",
       "      <td>26.0</td>\n",
       "      <td>Female</td>\n",
       "      <td>Desktop</td>\n",
       "      <td>Top</td>\n",
       "      <td>NaN</td>\n",
       "      <td>NaN</td>\n",
       "      <td>1</td>\n",
       "    </tr>\n",
       "    <tr>\n",
       "      <th>7</th>\n",
       "      <td>5065</td>\n",
       "      <td>User5065</td>\n",
       "      <td>40.0</td>\n",
       "      <td>Male</td>\n",
       "      <td>Mobile</td>\n",
       "      <td>Side</td>\n",
       "      <td>NaN</td>\n",
       "      <td>Evening</td>\n",
       "      <td>0</td>\n",
       "    </tr>\n",
       "    <tr>\n",
       "      <th>8</th>\n",
       "      <td>7993</td>\n",
       "      <td>User7993</td>\n",
       "      <td>NaN</td>\n",
       "      <td>Non-Binary</td>\n",
       "      <td>Mobile</td>\n",
       "      <td>Bottom</td>\n",
       "      <td>Social Media</td>\n",
       "      <td>NaN</td>\n",
       "      <td>1</td>\n",
       "    </tr>\n",
       "    <tr>\n",
       "      <th>9</th>\n",
       "      <td>4509</td>\n",
       "      <td>User4509</td>\n",
       "      <td>NaN</td>\n",
       "      <td>NaN</td>\n",
       "      <td>NaN</td>\n",
       "      <td>Bottom</td>\n",
       "      <td>Education</td>\n",
       "      <td>Afternoon</td>\n",
       "      <td>1</td>\n",
       "    </tr>\n",
       "  </tbody>\n",
       "</table>\n",
       "</div>"
      ],
      "text/plain": [
       "     id full_name   age      gender device_type ad_position browsing_history  \\\n",
       "0   670   User670  22.0         NaN     Desktop         Top         Shopping   \n",
       "1  3044  User3044   NaN        Male     Desktop         Top              NaN   \n",
       "2  5912  User5912  41.0  Non-Binary         NaN        Side        Education   \n",
       "3  5418  User5418  34.0        Male         NaN         NaN    Entertainment   \n",
       "4  9452  User9452  39.0  Non-Binary         NaN         NaN     Social Media   \n",
       "5  5942  User5942   NaN  Non-Binary         NaN      Bottom     Social Media   \n",
       "6  7808  User7808  26.0      Female     Desktop         Top              NaN   \n",
       "7  5065  User5065  40.0        Male      Mobile        Side              NaN   \n",
       "8  7993  User7993   NaN  Non-Binary      Mobile      Bottom     Social Media   \n",
       "9  4509  User4509   NaN         NaN         NaN      Bottom        Education   \n",
       "\n",
       "  time_of_day  click  \n",
       "0   Afternoon      1  \n",
       "1         NaN      1  \n",
       "2       Night      1  \n",
       "3     Evening      1  \n",
       "4     Morning      0  \n",
       "5     Evening      1  \n",
       "6         NaN      1  \n",
       "7     Evening      0  \n",
       "8         NaN      1  \n",
       "9   Afternoon      1  "
      ]
     },
     "execution_count": 4,
     "metadata": {},
     "output_type": "execute_result"
    }
   ],
   "source": [
    "# Examining the top 10 rows\n",
    "adclicks.head(10)"
   ]
  },
  {
   "cell_type": "code",
   "execution_count": 5,
   "metadata": {},
   "outputs": [
    {
     "name": "stdout",
     "output_type": "stream",
     "text": [
      "<class 'pandas.core.frame.DataFrame'>\n",
      "RangeIndex: 10000 entries, 0 to 9999\n",
      "Data columns (total 9 columns):\n",
      " #   Column            Non-Null Count  Dtype  \n",
      "---  ------            --------------  -----  \n",
      " 0   id                10000 non-null  int64  \n",
      " 1   full_name         10000 non-null  object \n",
      " 2   age               5234 non-null   float64\n",
      " 3   gender            5307 non-null   object \n",
      " 4   device_type       8000 non-null   object \n",
      " 5   ad_position       8000 non-null   object \n",
      " 6   browsing_history  5218 non-null   object \n",
      " 7   time_of_day       8000 non-null   object \n",
      " 8   click             10000 non-null  int64  \n",
      "dtypes: float64(1), int64(2), object(6)\n",
      "memory usage: 703.3+ KB\n"
     ]
    }
   ],
   "source": [
    "# More information on features\n",
    "adclicks.info()"
   ]
  },
  {
   "cell_type": "markdown",
   "metadata": {},
   "source": [
    "In `adclicks.head(10)`, we saw quite a bit of missing information (NaN), and this is confirmed by running `adclicks.info()`.\n",
    "\n",
    "A summary of `adclicks.info()`:\n",
    "\n",
    "- There are 10,000 instances.\n",
    "- `age`, `gender`, `device_type`, `ad_position`, `browsing_history`, and `time_of_day` have missing values.\n",
    "- Most of the features are non-numeric, possibly categorical."
   ]
  },
  {
   "cell_type": "markdown",
   "metadata": {},
   "source": [
    "***\n",
    "\n",
    "Let's examine what the possible values our non-numerical features have."
   ]
  },
  {
   "cell_type": "code",
   "execution_count": 6,
   "metadata": {},
   "outputs": [
    {
     "data": {
      "text/plain": [
       "gender\n",
       "Female        1834\n",
       "Male          1810\n",
       "Non-Binary    1663\n",
       "Name: count, dtype: int64"
      ]
     },
     "metadata": {},
     "output_type": "display_data"
    },
    {
     "data": {
      "text/plain": [
       "device_type\n",
       "Desktop    2754\n",
       "Mobile     2649\n",
       "Tablet     2597\n",
       "Name: count, dtype: int64"
      ]
     },
     "metadata": {},
     "output_type": "display_data"
    },
    {
     "data": {
      "text/plain": [
       "ad_position\n",
       "Bottom    2817\n",
       "Top       2597\n",
       "Side      2586\n",
       "Name: count, dtype: int64"
      ]
     },
     "metadata": {},
     "output_type": "display_data"
    },
    {
     "data": {
      "text/plain": [
       "browsing_history\n",
       "Entertainment    1175\n",
       "Social Media     1054\n",
       "Education        1029\n",
       "Shopping          984\n",
       "News              976\n",
       "Name: count, dtype: int64"
      ]
     },
     "metadata": {},
     "output_type": "display_data"
    },
    {
     "data": {
      "text/plain": [
       "time_of_day\n",
       "Morning      2126\n",
       "Afternoon    2016\n",
       "Evening      1958\n",
       "Night        1900\n",
       "Name: count, dtype: int64"
      ]
     },
     "metadata": {},
     "output_type": "display_data"
    }
   ],
   "source": [
    "# Examine the possible values of non-numeric attributes\n",
    "display(adclicks[\"gender\"].value_counts())\n",
    "display(adclicks[\"device_type\"].value_counts())\n",
    "display(adclicks[\"ad_position\"].value_counts())\n",
    "display(adclicks[\"browsing_history\"].value_counts())\n",
    "display(adclicks[\"time_of_day\"].value_counts())"
   ]
  },
  {
   "cell_type": "markdown",
   "metadata": {},
   "source": [
    "With the different value counts of our non-numerical features, we can clearly see that they are intended to be categorical.\n",
    "\n",
    "Each categorical feature represents the following:\n",
    "\n",
    "- `gender`: the gender of the user (Male, Female, Non-Binary).\n",
    "- `device_type`: the type of device of the user when viewing the ad (Mobile, Desktop, Tablet).\n",
    "- `ad_position`: the position of the ad on the webpage (Top, Side, Bottom).\n",
    "- `browsing_history`: the user's browsing activity prior to seeing the ad (Shopping, News, Entertainment, Education, Social Media).\n",
    "- `time_of_day`: the time when the user viewed the ad (Morning, Afternoon, Evening, Night).\n",
    "\n",
    "Our numerical features represent the following:\n",
    "\n",
    "- `id`: unique ID for each user.\n",
    "- `click`: the **target label** indicating whether the user clicked on the ad (Binary).\n",
    "\n",
    "We will be using the categorical features to predict whether a user will click on an ad (`click`).\n",
    "\n",
    "Since the `full_name` column as been anonymized and because I feel it is irrelevant, I will be removing it from our analysis."
   ]
  },
  {
   "cell_type": "code",
   "execution_count": 7,
   "metadata": {},
   "outputs": [],
   "source": [
    "# Dropping `full_name`\n",
    "adclicks = adclicks.drop(\"full_name\", axis=1, inplace=False)"
   ]
  },
  {
   "cell_type": "markdown",
   "metadata": {},
   "source": [
    "***\n",
    "\n",
    "# Visualizations\n",
    "\n",
    "Let's visualize the distributions of our features."
   ]
  },
  {
   "cell_type": "markdown",
   "metadata": {},
   "source": [
    "## Barplots\n",
    "\n",
    "Let's plot barplots for each of our categorical features to look at the counts of each category."
   ]
  },
  {
   "cell_type": "code",
   "execution_count": 28,
   "metadata": {},
   "outputs": [],
   "source": [
    "# PLOT_CATEGORICAL: a function to plot the categorical features in dataset\n",
    "def plt_categorical(df):\n",
    "    # Select the categorical features\n",
    "    categorical_features = df.select_dtypes(include=[\"object\", \"category\", \"boolean\"]).columns\n",
    "    num_categorical = len(categorical_features)\n",
    "\n",
    "    # Creating a \"square\" plot\n",
    "    sq_rows = math.floor(math.sqrt(num_categorical))\n",
    "    sq_cols = num_categorical - sq_rows\n",
    "\n",
    "    # Setting dimensions for figure\n",
    "    fig, axes = plt.subplots(nrows=sq_rows, ncols=sq_cols, figsize=(5*sq_cols, 4*sq_rows))\n",
    "\n",
    "    # Configure display for each subplot\n",
    "    for ax, feature in zip(axes.flatten(), categorical_features):\n",
    "        # Create a bar plot for each categorical variable\n",
    "        sns.countplot(x=feature, data=df, ax=ax)\n",
    "        ax.set_title(f\"Count of {feature}\")\n",
    "        ax.set_xlabel(feature)\n",
    "        ax.set_ylabel(\"Count\")\n",
    "\n",
    "    # Make empty axes not visible\n",
    "    for i in range(num_categorical, len(axes.flatten())):\n",
    "        axes.flatten()[i].set_visible(False)\n",
    "        \n",
    "    # Adjust layout\n",
    "    plt.tight_layout()"
   ]
  },
  {
   "cell_type": "code",
   "execution_count": 26,
   "metadata": {},
   "outputs": [],
   "source": [
    "# PLT_SHOW: a function to name and save the image of the current plot\n",
    "def plt_show(plt_name):\n",
    "    save_fig(plt_name)\n",
    "    plt.show()"
   ]
  },
  {
   "cell_type": "code",
   "execution_count": 29,
   "metadata": {},
   "outputs": [
    {
     "data": {
      "image/png": "[encoded data removed]",
      "text/plain": [
       "<Figure size 1500x800 with 6 Axes>"
      ]
     },
     "metadata": {},
     "output_type": "display_data"
    }
   ],
   "source": [
    "# Plotting barplots for all categorical variables\n",
    "plt_categorical(adclicks)\n",
    "plt_show(\"categorical_bar_plots\")"
   ]
  },
  {
   "cell_type": "markdown",
   "metadata": {},
   "source": [
    "From the plots, we see that most of the categorical features have a uniform distribution, except `browsing_history`, which has a slightly unimodal distribution. This information will be useful for dealing with missing data in these categories."
   ]
  },
  {
   "cell_type": "markdown",
   "metadata": {},
   "source": [
    "## Distribution of AGE"
   ]
  },
  {
   "cell_type": "code",
   "execution_count": null,
   "metadata": {},
   "outputs": [],
   "source": []
  }
 ],
 "metadata": {
  "kernelspec": {
   "display_name": "dsci",
   "language": "python",
   "name": "python3"
  },
  "language_info": {
   "codemirror_mode": {
    "name": "ipython",
    "version": 3
   },
   "file_extension": ".py",
   "mimetype": "text/x-python",
   "name": "python",
   "nbconvert_exporter": "python",
   "pygments_lexer": "ipython3",
   "version": "3.12.5"
  }
 },
 "nbformat": 4,
 "nbformat_minor": 2
}
