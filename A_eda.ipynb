{
 "cells": [
  {
   "cell_type": "markdown",
   "metadata": {},
   "source": [
    "# Exploratory Data Analysis\n",
    "\n",
    "In this notebook, we will be importing the data and conducting EDA to evaluate our most pertinent features."
   ]
  },
  {
   "cell_type": "markdown",
   "metadata": {},
   "source": [
    "***\n",
    "\n",
    "# Initialization\n",
    "\n",
    "Importing libraries and setting seeds."
   ]
  },
  {
   "cell_type": "code",
   "execution_count": 1,
   "metadata": {},
   "outputs": [
    {
     "name": "stdout",
     "output_type": "stream",
     "text": [
      "Make sure the following says 'None':  None\n",
      "Make sure the following says '0':  0\n"
     ]
    }
   ],
   "source": [
    "# Setting PYTHONHASHSEED\n",
    "import os\n",
    "\n",
    "pyhashseed1 = os.environ.get('PYTHONHASHSEED')\n",
    "os.environ['PYTHONHASHSEED'] = '0'\n",
    "pyhashseed2 = os.environ.get('PYTHONHASHSEED')\n",
    "\n",
    "# NOTEBOOK EXCLUSIVE CODE\n",
    "if __name__ == \"__main__\":\n",
    "    print('Make sure the following says \\'None\\': ', pyhashseed1)\n",
    "    print('Make sure the following says \\'0\\': ', pyhashseed2)"
   ]
  },
  {
   "cell_type": "code",
   "execution_count": 2,
   "metadata": {},
   "outputs": [],
   "source": [
    "# Importing libraries\n",
    "import pandas as pd\n",
    "import numpy as np\n",
    "import math\n",
    "\n",
    "import matplotlib.pyplot as plt\n",
    "import seaborn as sns\n",
    "\n",
    "from IPython.display import display\n",
    "\n",
    "# Setting seed\n",
    "np.random.seed(42)"
   ]
  },
  {
   "cell_type": "code",
   "execution_count": 3,
   "metadata": {},
   "outputs": [],
   "source": [
    "from pathlib import Path\n",
    "\n",
    "IMAGES_PATH = Path() / 'plots'\n",
    "\n",
    "def save_fig(fig_name, tight_layout=True, fig_extension='png', resolution=300):\n",
    "    '''Saves an image to the plots folder with the specified name.'''\n",
    "    path = IMAGES_PATH / f'{fig_name}.{fig_extension}'\n",
    "    if tight_layout:\n",
    "        plt.tight_layout()\n",
    "    plt.savefig(path, format=fig_extension, dpi=resolution)"
   ]
  },
  {
   "cell_type": "code",
   "execution_count": 4,
   "metadata": {},
   "outputs": [],
   "source": [
    "def plt_show(plt_name):\n",
    "    '''Saves an image using save_fig() under the plt_name and displays it.'''\n",
    "    save_fig(plt_name)\n",
    "    plt.show()"
   ]
  },
  {
   "cell_type": "code",
   "execution_count": 5,
   "metadata": {},
   "outputs": [],
   "source": [
    "# Importing data\n",
    "adclicks = pd.read_csv('data/ad_click_dataset.csv')"
   ]
  },
  {
   "cell_type": "markdown",
   "metadata": {},
   "source": [
    "***\n",
    "\n",
    "# Overview of data structure\n",
    "\n",
    "We will be examining the data and its underlying structure"
   ]
  },
  {
   "cell_type": "code",
   "execution_count": 6,
   "metadata": {},
   "outputs": [
    {
     "data": {
      "text/html": [
       "<div>\n",
       "<style scoped>\n",
       "    .dataframe tbody tr th:only-of-type {\n",
       "        vertical-align: middle;\n",
       "    }\n",
       "\n",
       "    .dataframe tbody tr th {\n",
       "        vertical-align: top;\n",
       "    }\n",
       "\n",
       "    .dataframe thead th {\n",
       "        text-align: right;\n",
       "    }\n",
       "</style>\n",
       "<table border=\"1\" class=\"dataframe\">\n",
       "  <thead>\n",
       "    <tr style=\"text-align: right;\">\n",
       "      <th></th>\n",
       "      <th>id</th>\n",
       "      <th>full_name</th>\n",
       "      <th>age</th>\n",
       "      <th>gender</th>\n",
       "      <th>device_type</th>\n",
       "      <th>ad_position</th>\n",
       "      <th>browsing_history</th>\n",
       "      <th>time_of_day</th>\n",
       "      <th>click</th>\n",
       "    </tr>\n",
       "  </thead>\n",
       "  <tbody>\n",
       "    <tr>\n",
       "      <th>0</th>\n",
       "      <td>670</td>\n",
       "      <td>User670</td>\n",
       "      <td>22.0</td>\n",
       "      <td>NaN</td>\n",
       "      <td>Desktop</td>\n",
       "      <td>Top</td>\n",
       "      <td>Shopping</td>\n",
       "      <td>Afternoon</td>\n",
       "      <td>1</td>\n",
       "    </tr>\n",
       "    <tr>\n",
       "      <th>1</th>\n",
       "      <td>3044</td>\n",
       "      <td>User3044</td>\n",
       "      <td>NaN</td>\n",
       "      <td>Male</td>\n",
       "      <td>Desktop</td>\n",
       "      <td>Top</td>\n",
       "      <td>NaN</td>\n",
       "      <td>NaN</td>\n",
       "      <td>1</td>\n",
       "    </tr>\n",
       "    <tr>\n",
       "      <th>2</th>\n",
       "      <td>5912</td>\n",
       "      <td>User5912</td>\n",
       "      <td>41.0</td>\n",
       "      <td>Non-Binary</td>\n",
       "      <td>NaN</td>\n",
       "      <td>Side</td>\n",
       "      <td>Education</td>\n",
       "      <td>Night</td>\n",
       "      <td>1</td>\n",
       "    </tr>\n",
       "    <tr>\n",
       "      <th>3</th>\n",
       "      <td>5418</td>\n",
       "      <td>User5418</td>\n",
       "      <td>34.0</td>\n",
       "      <td>Male</td>\n",
       "      <td>NaN</td>\n",
       "      <td>NaN</td>\n",
       "      <td>Entertainment</td>\n",
       "      <td>Evening</td>\n",
       "      <td>1</td>\n",
       "    </tr>\n",
       "    <tr>\n",
       "      <th>4</th>\n",
       "      <td>9452</td>\n",
       "      <td>User9452</td>\n",
       "      <td>39.0</td>\n",
       "      <td>Non-Binary</td>\n",
       "      <td>NaN</td>\n",
       "      <td>NaN</td>\n",
       "      <td>Social Media</td>\n",
       "      <td>Morning</td>\n",
       "      <td>0</td>\n",
       "    </tr>\n",
       "    <tr>\n",
       "      <th>5</th>\n",
       "      <td>5942</td>\n",
       "      <td>User5942</td>\n",
       "      <td>NaN</td>\n",
       "      <td>Non-Binary</td>\n",
       "      <td>NaN</td>\n",
       "      <td>Bottom</td>\n",
       "      <td>Social Media</td>\n",
       "      <td>Evening</td>\n",
       "      <td>1</td>\n",
       "    </tr>\n",
       "    <tr>\n",
       "      <th>6</th>\n",
       "      <td>7808</td>\n",
       "      <td>User7808</td>\n",
       "      <td>26.0</td>\n",
       "      <td>Female</td>\n",
       "      <td>Desktop</td>\n",
       "      <td>Top</td>\n",
       "      <td>NaN</td>\n",
       "      <td>NaN</td>\n",
       "      <td>1</td>\n",
       "    </tr>\n",
       "    <tr>\n",
       "      <th>7</th>\n",
       "      <td>5065</td>\n",
       "      <td>User5065</td>\n",
       "      <td>40.0</td>\n",
       "      <td>Male</td>\n",
       "      <td>Mobile</td>\n",
       "      <td>Side</td>\n",
       "      <td>NaN</td>\n",
       "      <td>Evening</td>\n",
       "      <td>0</td>\n",
       "    </tr>\n",
       "    <tr>\n",
       "      <th>8</th>\n",
       "      <td>7993</td>\n",
       "      <td>User7993</td>\n",
       "      <td>NaN</td>\n",
       "      <td>Non-Binary</td>\n",
       "      <td>Mobile</td>\n",
       "      <td>Bottom</td>\n",
       "      <td>Social Media</td>\n",
       "      <td>NaN</td>\n",
       "      <td>1</td>\n",
       "    </tr>\n",
       "    <tr>\n",
       "      <th>9</th>\n",
       "      <td>4509</td>\n",
       "      <td>User4509</td>\n",
       "      <td>NaN</td>\n",
       "      <td>NaN</td>\n",
       "      <td>NaN</td>\n",
       "      <td>Bottom</td>\n",
       "      <td>Education</td>\n",
       "      <td>Afternoon</td>\n",
       "      <td>1</td>\n",
       "    </tr>\n",
       "  </tbody>\n",
       "</table>\n",
       "</div>"
      ],
      "text/plain": [
       "     id full_name   age      gender device_type ad_position browsing_history  \\\n",
       "0   670   User670  22.0         NaN     Desktop         Top         Shopping   \n",
       "1  3044  User3044   NaN        Male     Desktop         Top              NaN   \n",
       "2  5912  User5912  41.0  Non-Binary         NaN        Side        Education   \n",
       "3  5418  User5418  34.0        Male         NaN         NaN    Entertainment   \n",
       "4  9452  User9452  39.0  Non-Binary         NaN         NaN     Social Media   \n",
       "5  5942  User5942   NaN  Non-Binary         NaN      Bottom     Social Media   \n",
       "6  7808  User7808  26.0      Female     Desktop         Top              NaN   \n",
       "7  5065  User5065  40.0        Male      Mobile        Side              NaN   \n",
       "8  7993  User7993   NaN  Non-Binary      Mobile      Bottom     Social Media   \n",
       "9  4509  User4509   NaN         NaN         NaN      Bottom        Education   \n",
       "\n",
       "  time_of_day  click  \n",
       "0   Afternoon      1  \n",
       "1         NaN      1  \n",
       "2       Night      1  \n",
       "3     Evening      1  \n",
       "4     Morning      0  \n",
       "5     Evening      1  \n",
       "6         NaN      1  \n",
       "7     Evening      0  \n",
       "8         NaN      1  \n",
       "9   Afternoon      1  "
      ]
     },
     "execution_count": 6,
     "metadata": {},
     "output_type": "execute_result"
    }
   ],
   "source": [
    "# Examining the top 10 rows\n",
    "adclicks.head(10)"
   ]
  },
  {
   "cell_type": "code",
   "execution_count": null,
   "metadata": {},
   "outputs": [
    {
     "data": {
      "text/plain": [
       "2853"
      ]
     },
     "metadata": {},
     "output_type": "display_data"
    }
   ],
   "source": [
    "# NOTEBOOK EXCLUSIVE CODE\n",
    "if __name__ == \"__main__\":\n",
    "\n",
    "    # Checking duplicates\n",
    "    duplicates = adclicks.duplicated()\n",
    "    print(len(adclicks[duplicates]))\n",
    "    \n",
    "# Dropping duplicates\n",
    "adclicks = adclicks.drop_duplicates()"
   ]
  },
  {
   "cell_type": "code",
   "execution_count": 8,
   "metadata": {},
   "outputs": [
    {
     "name": "stdout",
     "output_type": "stream",
     "text": [
      "<class 'pandas.core.frame.DataFrame'>\n",
      "Index: 7147 entries, 0 to 9999\n",
      "Data columns (total 9 columns):\n",
      " #   Column            Non-Null Count  Dtype  \n",
      "---  ------            --------------  -----  \n",
      " 0   id                7147 non-null   int64  \n",
      " 1   full_name         7147 non-null   object \n",
      " 2   age               3671 non-null   float64\n",
      " 3   gender            3747 non-null   object \n",
      " 4   device_type       5419 non-null   object \n",
      " 5   ad_position       5404 non-null   object \n",
      " 6   browsing_history  3667 non-null   object \n",
      " 7   time_of_day       5435 non-null   object \n",
      " 8   click             7147 non-null   int64  \n",
      "dtypes: float64(1), int64(2), object(6)\n",
      "memory usage: 558.4+ KB\n"
     ]
    }
   ],
   "source": [
    "# NOTEBOOK EXCLUSIVE CODE\n",
    "if __name__ == \"__main__\":\n",
    "    \n",
    "    # Information on features\n",
    "    adclicks.info()"
   ]
  },
  {
   "cell_type": "markdown",
   "metadata": {},
   "source": [
    "Above, we can see that there are quite a bit of missing information (NaNs) and we also had to remove a significant amount of duplicate data.\n",
    "\n",
    "A summary of `adclicks.info()`:\n",
    "\n",
    "- There are 7,147 instances.\n",
    "- `age`, `gender`, `device_type`, `ad_position`, `browsing_history`, and `time_of_day` have missing values.\n",
    "- Most of the features are non-numeric, possibly categorical.\n",
    "- `full_name` seems to be an irrelevant feature, as all the names are anonymized. I will remove this feature.\n",
    "    - I will also check if `id` is a unique identifier, if so, I will drop it as use rowID as an identifier instead."
   ]
  },
  {
   "cell_type": "code",
   "execution_count": 9,
   "metadata": {},
   "outputs": [
    {
     "name": "stdout",
     "output_type": "stream",
     "text": [
      "4000\n"
     ]
    }
   ],
   "source": [
    "# NOTEBOOK EXCLUSIVE CODE\n",
    "if __name__ == \"__main__\":\n",
    "    \n",
    "    # The number of unique IDs\n",
    "    print(adclicks['id'].nunique())"
   ]
  },
  {
   "cell_type": "markdown",
   "metadata": {},
   "source": [
    "Since `id` is not unique for all rows, we will keep it and keep in mind this fact when we split our test set."
   ]
  },
  {
   "cell_type": "code",
   "execution_count": null,
   "metadata": {},
   "outputs": [],
   "source": [
    "# Dropping `full_name`\n",
    "adclicks = adclicks.drop(columns='full_name')"
   ]
  },
  {
   "cell_type": "markdown",
   "metadata": {},
   "source": [
    "***\n",
    "\n",
    "## Examining categorical features\n",
    "\n",
    "Let's examine what the possible values our non-numerical features have."
   ]
  },
  {
   "cell_type": "code",
   "execution_count": 11,
   "metadata": {},
   "outputs": [],
   "source": [
    "def categorical_features(df):\n",
    "    '''Returns a list of the names of the cateogorical columns in a pandas dataframe.'''\n",
    "    return list(df.select_dtypes(include=['object', 'category', 'bool']).columns)"
   ]
  },
  {
   "cell_type": "code",
   "execution_count": 12,
   "metadata": {},
   "outputs": [
    {
     "data": {
      "text/plain": [
       "['gender', 'device_type', 'ad_position', 'browsing_history', 'time_of_day']"
      ]
     },
     "metadata": {},
     "output_type": "display_data"
    },
    {
     "name": "stdout",
     "output_type": "stream",
     "text": [
      "gender:  [nan, 'Male', 'Non-Binary', 'Female']\n",
      "device_type:  ['Desktop', nan, 'Mobile', 'Tablet']\n",
      "ad_position:  ['Top', 'Side', nan, 'Bottom']\n",
      "browsing_history:  ['Shopping', nan, 'Education', 'Entertainment', 'Social Media', 'News']\n",
      "time_of_day:  ['Afternoon', nan, 'Night', 'Evening', 'Morning']\n"
     ]
    }
   ],
   "source": [
    "# Possible values of the categorical features\n",
    "categoricals = categorical_features(adclicks)\n",
    "\n",
    "# NOTEBOOK EXCLUSIVE CODE\n",
    "if __name__ == \"__main__\":\n",
    "    \n",
    "    # Check the columns in categoricals\n",
    "    display(categoricals)\n",
    "\n",
    "    # Display the unique values for each categorical feature\n",
    "    for feature in categoricals:\n",
    "        print(f'{feature}: ' ,list(adclicks[feature].unique()))"
   ]
  },
  {
   "cell_type": "markdown",
   "metadata": {},
   "source": [
    "Each categorical feature represents the following:\n",
    "\n",
    "- `gender`: the gender of the user (Male, Female, Non-Binary).\n",
    "- `device_type`: the type of device of the user when viewing the ad (Mobile, Desktop, Tablet).\n",
    "- `ad_position`: the position of the ad on the webpage (Top, Side, Bottom).\n",
    "- `browsing_history`: the user's browsing activity prior to seeing the ad (Shopping, News, Entertainment, Education, Social Media).\n",
    "- `time_of_day`: the time when the user viewed the ad (Morning, Afternoon, Evening, Night).\n",
    "\n",
    "Our numerical features represent the following:\n",
    "\n",
    "- `id`: unique ID for each user (NOT EACH ROW).\n",
    "    - This is important to note as we want to be aware of this when we split our test set in order to avoid data leakage.\n",
    "- `age`: the age of each user.\n",
    "- `click`: the **target label** indicating whether the user clicked on the ad (Binary)."
   ]
  },
  {
   "cell_type": "markdown",
   "metadata": {},
   "source": [
    "***\n",
    "\n",
    "# Splitting an initial training set for EDA + transformations\n",
    "\n",
    "We will be splitting an initial training set to evaluate for EDA and assess what the necessary transformations will be."
   ]
  },
  {
   "cell_type": "code",
   "execution_count": 20,
   "metadata": {},
   "outputs": [],
   "source": [
    "# Splitting a random train-test set\n",
    "from sklearn.model_selection import train_test_split\n",
    "X = adclicks.drop(columns='click')\n",
    "y = adclicks['click']\n",
    "\n",
    "X_train, X_val, y_train, y_val = train_test_split(X, y, test_size=0.2)"
   ]
  },
  {
   "cell_type": "markdown",
   "metadata": {},
   "source": [
    "***\n",
    "\n",
    "# Pre-split EDA\n",
    "\n",
    "We will perform some light EDA before we split to understand the overall pattern of the data and how it compares to our training data."
   ]
  },
  {
   "cell_type": "code",
   "execution_count": 21,
   "metadata": {},
   "outputs": [
    {
     "name": "stdout",
     "output_type": "stream",
     "text": [
      "VALUE COUNTS OF CATEGORICAL FEATURES\n"
     ]
    },
    {
     "data": {
      "text/plain": [
       "gender\n",
       "Female        1035\n",
       "Male          1015\n",
       "Non-Binary     955\n",
       "Name: count, dtype: int64"
      ]
     },
     "metadata": {},
     "output_type": "display_data"
    },
    {
     "data": {
      "text/plain": [
       "device_type\n",
       "Mobile     1463\n",
       "Desktop    1458\n",
       "Tablet     1424\n",
       "Name: count, dtype: int64"
      ]
     },
     "metadata": {},
     "output_type": "display_data"
    },
    {
     "data": {
      "text/plain": [
       "ad_position\n",
       "Bottom    1478\n",
       "Side      1435\n",
       "Top       1400\n",
       "Name: count, dtype: int64"
      ]
     },
     "metadata": {},
     "output_type": "display_data"
    },
    {
     "data": {
      "text/plain": [
       "browsing_history\n",
       "Entertainment    635\n",
       "News             584\n",
       "Education        576\n",
       "Social Media     573\n",
       "Shopping         557\n",
       "Name: count, dtype: int64"
      ]
     },
     "metadata": {},
     "output_type": "display_data"
    },
    {
     "data": {
      "text/plain": [
       "time_of_day\n",
       "Morning      1146\n",
       "Afternoon    1085\n",
       "Night        1074\n",
       "Evening      1054\n",
       "Name: count, dtype: int64"
      ]
     },
     "metadata": {},
     "output_type": "display_data"
    },
    {
     "name": "stdout",
     "output_type": "stream",
     "text": [
      "\n",
      "DESCRIPTION STATISTICS\n"
     ]
    },
    {
     "data": {
      "text/html": [
       "<div>\n",
       "<style scoped>\n",
       "    .dataframe tbody tr th:only-of-type {\n",
       "        vertical-align: middle;\n",
       "    }\n",
       "\n",
       "    .dataframe tbody tr th {\n",
       "        vertical-align: top;\n",
       "    }\n",
       "\n",
       "    .dataframe thead th {\n",
       "        text-align: right;\n",
       "    }\n",
       "</style>\n",
       "<table border=\"1\" class=\"dataframe\">\n",
       "  <thead>\n",
       "    <tr style=\"text-align: right;\">\n",
       "      <th></th>\n",
       "      <th>id</th>\n",
       "      <th>age</th>\n",
       "    </tr>\n",
       "  </thead>\n",
       "  <tbody>\n",
       "    <tr>\n",
       "      <th>count</th>\n",
       "      <td>5717.000000</td>\n",
       "      <td>2941.000000</td>\n",
       "    </tr>\n",
       "    <tr>\n",
       "      <th>mean</th>\n",
       "      <td>5029.128214</td>\n",
       "      <td>40.377763</td>\n",
       "    </tr>\n",
       "    <tr>\n",
       "      <th>std</th>\n",
       "      <td>2864.127895</td>\n",
       "      <td>13.130316</td>\n",
       "    </tr>\n",
       "    <tr>\n",
       "      <th>min</th>\n",
       "      <td>5.000000</td>\n",
       "      <td>18.000000</td>\n",
       "    </tr>\n",
       "    <tr>\n",
       "      <th>25%</th>\n",
       "      <td>2483.000000</td>\n",
       "      <td>29.000000</td>\n",
       "    </tr>\n",
       "    <tr>\n",
       "      <th>50%</th>\n",
       "      <td>5110.000000</td>\n",
       "      <td>40.000000</td>\n",
       "    </tr>\n",
       "    <tr>\n",
       "      <th>75%</th>\n",
       "      <td>7445.000000</td>\n",
       "      <td>52.000000</td>\n",
       "    </tr>\n",
       "    <tr>\n",
       "      <th>max</th>\n",
       "      <td>10000.000000</td>\n",
       "      <td>64.000000</td>\n",
       "    </tr>\n",
       "  </tbody>\n",
       "</table>\n",
       "</div>"
      ],
      "text/plain": [
       "                 id          age\n",
       "count   5717.000000  2941.000000\n",
       "mean    5029.128214    40.377763\n",
       "std     2864.127895    13.130316\n",
       "min        5.000000    18.000000\n",
       "25%     2483.000000    29.000000\n",
       "50%     5110.000000    40.000000\n",
       "75%     7445.000000    52.000000\n",
       "max    10000.000000    64.000000"
      ]
     },
     "metadata": {},
     "output_type": "display_data"
    }
   ],
   "source": [
    "# NOTEBOOK EXCLUSIVE CODE\n",
    "if __name__ == \"__main__\":\n",
    "    \n",
    "    # Display value counts for categorical features\n",
    "    print('VALUE COUNTS OF CATEGORICAL FEATURES')\n",
    "    for category in categoricals:\n",
    "        display(X_train[category].value_counts())\n",
    "        \n",
    "    # Description statistics\n",
    "    print('\\nDESCRIPTION STATISTICS')\n",
    "    display(X_train.describe())"
   ]
  },
  {
   "cell_type": "code",
   "execution_count": 22,
   "metadata": {},
   "outputs": [
    {
     "name": "stdout",
     "output_type": "stream",
     "text": [
      "5367\n"
     ]
    },
    {
     "name": "stderr",
     "output_type": "stream",
     "text": [
      "/var/folders/vd/7yzb859x5958jxfslq9bq57r0000gn/T/ipykernel_1307/3468805568.py:9: UserWarning: This figure includes Axes that are not compatible with tight_layout, so results might be incorrect.\n",
      "  plt.tight_layout()\n"
     ]
    },
    {
     "data": {
      "image/png": "[encoded data removed]",
      "text/plain": [
       "<Figure size 2500x1000 with 2 Axes>"
      ]
     },
     "metadata": {},
     "output_type": "display_data"
    },
    {
     "data": {
      "image/png": "[encoded data removed]",
      "text/plain": [
       "<Figure size 2000x1200 with 2 Axes>"
      ]
     },
     "metadata": {},
     "output_type": "display_data"
    }
   ],
   "source": [
    "import missingno as msno\n",
    "\n",
    "# NOTEBOOK EXCLUSIVE CODE\n",
    "if __name__ == \"__main__\":\n",
    "    \n",
    "    # Evaluate missing data\n",
    "    missing_values = X_train[X_train.isnull().any(axis=1)]\n",
    "    print(len(missing_values))\n",
    "    \n",
    "    # Show the missing matrix\n",
    "    msno.matrix(X_train)\n",
    "    plt_show('missing_matrix')\n",
    "    \n",
    "    # Show the nullity correlation heatmap\n",
    "    msno.heatmap(X_train)\n",
    "    plt_show('nullity_corr_heatmap')"
   ]
  },
  {
   "cell_type": "markdown",
   "metadata": {},
   "source": [
    "From a small look at our data, the following can be observed:\n",
    "\n",
    "- The classes of each categorical feature are balanced\n",
    "- The average age is 40 years old, and the data seems to not be skewed as the median also aligns with this value\n",
    "- Most of the instances have missing data, which will significantly affect our modeling.\n",
    "    - Luckily, the data shows to be missing at random (MAR), based on the sporadic pattern of the missing matrix and the neutral nullity correlation heatmap, so we can be optimistic about not running into issues during imputation of missing values."
   ]
  },
  {
   "cell_type": "markdown",
   "metadata": {},
   "source": [
    "***\n",
    "\n",
    "# Splitting the test set\n",
    "\n",
    "Considering that our target variable `click` is categorical, I am thinking that a **stratified-split** would be the best way to split our training and test data in order to represent our classes well. We will also have to split based on `id` to ensure that the same user is not in both the training and test set.\n",
    "\n",
    "First, I want to see if we have any class imbalances in the `id` column."
   ]
  },
  {
   "cell_type": "code",
   "execution_count": 23,
   "metadata": {},
   "outputs": [
    {
     "data": {
      "text/plain": [
       "14"
      ]
     },
     "metadata": {},
     "output_type": "display_data"
    }
   ],
   "source": [
    "# NOTEBOOK EXCLUSIVE CODE\n",
    "if __name__ == \"__main__\":\n",
    "    \n",
    "    # Check the balance of user id\n",
    "    max_appearance = adclicks['id'].value_counts().max()\n",
    "    display(max_appearance)"
   ]
  },
  {
   "cell_type": "markdown",
   "metadata": {},
   "source": [
    "The most that any user appears is 14 times, which is not bad news for our splitting. We will proceed!"
   ]
  },
  {
   "cell_type": "code",
   "execution_count": 24,
   "metadata": {},
   "outputs": [],
   "source": [
    "# Splitting our data\n",
    "from sklearn.model_selection import StratifiedGroupKFold\n",
    "\n",
    "X = adclicks.drop(columns=['click']).copy()\n",
    "y = adclicks['click'].copy()\n",
    "groups = adclicks['id']\n",
    "\n",
    "sgkf = StratifiedGroupKFold(n_splits=5, shuffle=False)\n",
    "# Setting shuffle to false so that the indices stay consistent in the split\n",
    "splits = []\n",
    "\n",
    "for train_index, test_index in sgkf.split(X, y, groups=groups):\n",
    "    X_train, X_test = X.iloc[train_index], X.iloc[test_index]\n",
    "    y_train, y_test = y.iloc[train_index], y.iloc[test_index]\n",
    "    splits.append((X_train, X_test, y_train, y_test))"
   ]
  },
  {
   "cell_type": "code",
   "execution_count": 25,
   "metadata": {},
   "outputs": [
    {
     "name": "stdout",
     "output_type": "stream",
     "text": [
      "No overlap in train and test users in split 1: True\n",
      "Train label values:\n",
      "[1 0]\n",
      "Test label values:\n",
      "[1 0] \n",
      "\n",
      "No overlap in train and test users in split 2: True\n",
      "Train label values:\n",
      "[1 0]\n",
      "Test label values:\n",
      "[0 1] \n",
      "\n",
      "No overlap in train and test users in split 3: True\n",
      "Train label values:\n",
      "[1 0]\n",
      "Test label values:\n",
      "[1 0] \n",
      "\n",
      "No overlap in train and test users in split 4: True\n",
      "Train label values:\n",
      "[1 0]\n",
      "Test label values:\n",
      "[1 0] \n",
      "\n",
      "No overlap in train and test users in split 5: True\n",
      "Train label values:\n",
      "[1 0]\n",
      "Test label values:\n",
      "[1 0] \n",
      "\n"
     ]
    }
   ],
   "source": [
    "# NOTEBOOK EXCLUSIVE CODE\n",
    "if __name__ == \"__main__\":\n",
    "    \n",
    "    # Checking that our split is sound\n",
    "    for split, i in zip(splits, range(0, len(splits))):\n",
    "        (X_train, X_test, y_train, y_test) = split\n",
    "        \n",
    "        train_users = set(X_train['id'])\n",
    "        test_users = set(X_test['id'])\n",
    "        \n",
    "        # Printing output\n",
    "        print(f'No overlap in train and test users in split {i + 1}:', train_users.isdisjoint(test_users))\n",
    "        \n",
    "        print('Train label values:')\n",
    "        print(y_train.unique())\n",
    "        print('Test label values:')\n",
    "        print(y_test.unique(), '\\n')"
   ]
  },
  {
   "cell_type": "markdown",
   "metadata": {},
   "source": [
    "Great! We have no overlap in our test and train users and our train and test sets both have representation of our target variable `click`. Just as a precaution for when we implement our models later, I am going to calculate the \"sample weight\" of each user ID in the data (below)."
   ]
  },
  {
   "cell_type": "code",
   "execution_count": 26,
   "metadata": {},
   "outputs": [
    {
     "name": "stderr",
     "output_type": "stream",
     "text": [
      "/var/folders/vd/7yzb859x5958jxfslq9bq57r0000gn/T/ipykernel_1307/3546069392.py:6: SettingWithCopyWarning: \n",
      "A value is trying to be set on a copy of a slice from a DataFrame.\n",
      "Try using .loc[row_indexer,col_indexer] = value instead\n",
      "\n",
      "See the caveats in the documentation: https://pandas.pydata.org/pandas-docs/stable/user_guide/indexing.html#returning-a-view-versus-a-copy\n",
      "  train_set.loc[:, 'sample_weight'] = compute_sample_weight(class_weight='balanced',\n",
      "/var/folders/vd/7yzb859x5958jxfslq9bq57r0000gn/T/ipykernel_1307/3546069392.py:6: SettingWithCopyWarning: \n",
      "A value is trying to be set on a copy of a slice from a DataFrame.\n",
      "Try using .loc[row_indexer,col_indexer] = value instead\n",
      "\n",
      "See the caveats in the documentation: https://pandas.pydata.org/pandas-docs/stable/user_guide/indexing.html#returning-a-view-versus-a-copy\n",
      "  train_set.loc[:, 'sample_weight'] = compute_sample_weight(class_weight='balanced',\n",
      "/var/folders/vd/7yzb859x5958jxfslq9bq57r0000gn/T/ipykernel_1307/3546069392.py:6: SettingWithCopyWarning: \n",
      "A value is trying to be set on a copy of a slice from a DataFrame.\n",
      "Try using .loc[row_indexer,col_indexer] = value instead\n",
      "\n",
      "See the caveats in the documentation: https://pandas.pydata.org/pandas-docs/stable/user_guide/indexing.html#returning-a-view-versus-a-copy\n",
      "  train_set.loc[:, 'sample_weight'] = compute_sample_weight(class_weight='balanced',\n",
      "/var/folders/vd/7yzb859x5958jxfslq9bq57r0000gn/T/ipykernel_1307/3546069392.py:6: SettingWithCopyWarning: \n",
      "A value is trying to be set on a copy of a slice from a DataFrame.\n",
      "Try using .loc[row_indexer,col_indexer] = value instead\n",
      "\n",
      "See the caveats in the documentation: https://pandas.pydata.org/pandas-docs/stable/user_guide/indexing.html#returning-a-view-versus-a-copy\n",
      "  train_set.loc[:, 'sample_weight'] = compute_sample_weight(class_weight='balanced',\n",
      "/var/folders/vd/7yzb859x5958jxfslq9bq57r0000gn/T/ipykernel_1307/3546069392.py:6: SettingWithCopyWarning: \n",
      "A value is trying to be set on a copy of a slice from a DataFrame.\n",
      "Try using .loc[row_indexer,col_indexer] = value instead\n",
      "\n",
      "See the caveats in the documentation: https://pandas.pydata.org/pandas-docs/stable/user_guide/indexing.html#returning-a-view-versus-a-copy\n",
      "  train_set.loc[:, 'sample_weight'] = compute_sample_weight(class_weight='balanced',\n"
     ]
    },
    {
     "data": {
      "text/html": [
       "<div>\n",
       "<style scoped>\n",
       "    .dataframe tbody tr th:only-of-type {\n",
       "        vertical-align: middle;\n",
       "    }\n",
       "\n",
       "    .dataframe tbody tr th {\n",
       "        vertical-align: top;\n",
       "    }\n",
       "\n",
       "    .dataframe thead th {\n",
       "        text-align: right;\n",
       "    }\n",
       "</style>\n",
       "<table border=\"1\" class=\"dataframe\">\n",
       "  <thead>\n",
       "    <tr style=\"text-align: right;\">\n",
       "      <th></th>\n",
       "      <th>id</th>\n",
       "      <th>age</th>\n",
       "      <th>gender</th>\n",
       "      <th>device_type</th>\n",
       "      <th>ad_position</th>\n",
       "      <th>browsing_history</th>\n",
       "      <th>time_of_day</th>\n",
       "      <th>sample_weight</th>\n",
       "    </tr>\n",
       "  </thead>\n",
       "  <tbody>\n",
       "    <tr>\n",
       "      <th>0</th>\n",
       "      <td>670</td>\n",
       "      <td>22.0</td>\n",
       "      <td>NaN</td>\n",
       "      <td>Desktop</td>\n",
       "      <td>Top</td>\n",
       "      <td>Shopping</td>\n",
       "      <td>Afternoon</td>\n",
       "      <td>0.223320</td>\n",
       "    </tr>\n",
       "    <tr>\n",
       "      <th>1</th>\n",
       "      <td>3044</td>\n",
       "      <td>NaN</td>\n",
       "      <td>Male</td>\n",
       "      <td>Desktop</td>\n",
       "      <td>Top</td>\n",
       "      <td>NaN</td>\n",
       "      <td>NaN</td>\n",
       "      <td>0.255223</td>\n",
       "    </tr>\n",
       "    <tr>\n",
       "      <th>2</th>\n",
       "      <td>5912</td>\n",
       "      <td>41.0</td>\n",
       "      <td>Non-Binary</td>\n",
       "      <td>NaN</td>\n",
       "      <td>Side</td>\n",
       "      <td>Education</td>\n",
       "      <td>Night</td>\n",
       "      <td>0.223320</td>\n",
       "    </tr>\n",
       "    <tr>\n",
       "      <th>3</th>\n",
       "      <td>5418</td>\n",
       "      <td>34.0</td>\n",
       "      <td>Male</td>\n",
       "      <td>NaN</td>\n",
       "      <td>NaN</td>\n",
       "      <td>Entertainment</td>\n",
       "      <td>Evening</td>\n",
       "      <td>0.178656</td>\n",
       "    </tr>\n",
       "    <tr>\n",
       "      <th>4</th>\n",
       "      <td>9452</td>\n",
       "      <td>39.0</td>\n",
       "      <td>Non-Binary</td>\n",
       "      <td>NaN</td>\n",
       "      <td>NaN</td>\n",
       "      <td>Social Media</td>\n",
       "      <td>Morning</td>\n",
       "      <td>1.786563</td>\n",
       "    </tr>\n",
       "  </tbody>\n",
       "</table>\n",
       "</div>"
      ],
      "text/plain": [
       "     id   age      gender device_type ad_position browsing_history  \\\n",
       "0   670  22.0         NaN     Desktop         Top         Shopping   \n",
       "1  3044   NaN        Male     Desktop         Top              NaN   \n",
       "2  5912  41.0  Non-Binary         NaN        Side        Education   \n",
       "3  5418  34.0        Male         NaN         NaN    Entertainment   \n",
       "4  9452  39.0  Non-Binary         NaN         NaN     Social Media   \n",
       "\n",
       "  time_of_day  sample_weight  \n",
       "0   Afternoon       0.223320  \n",
       "1         NaN       0.255223  \n",
       "2       Night       0.223320  \n",
       "3     Evening       0.178656  \n",
       "4     Morning       1.786563  "
      ]
     },
     "metadata": {},
     "output_type": "display_data"
    }
   ],
   "source": [
    "# Calculating sample weight in the training data\n",
    "from sklearn.utils.class_weight import compute_sample_weight\n",
    "\n",
    "for split in splits:\n",
    "    train_set = split[0]\n",
    "    train_set.loc[:, 'sample_weight'] = compute_sample_weight(class_weight='balanced', \n",
    "                                                            y=train_set['id'])\n",
    "\n",
    "# NOTEBOOK EXCLUSIVE CODE\n",
    "if __name__ == \"__main__\":\n",
    "    # Display for the first split\n",
    "    display(splits[0][0].head())"
   ]
  },
  {
   "cell_type": "markdown",
   "metadata": {},
   "source": [
    "***\n",
    "\n",
    "# Next steps\n",
    "\n",
    "Now, with successfully split data, we will move on to transforming and preprocessing. While EDA would usually occur during this time, since we split our training data into multiple splits, there's a chance that evaluating each split would result in data leakage. In order to avoid this, we will just proceed and apply any imputations that were fit to the original random training set that we split for EDA."
   ]
  }
 ],
 "metadata": {
  "kernelspec": {
   "display_name": "dsci",
   "language": "python",
   "name": "python3"
  },
  "language_info": {
   "codemirror_mode": {
    "name": "ipython",
    "version": 3
   },
   "file_extension": ".py",
   "mimetype": "text/x-python",
   "name": "python",
   "nbconvert_exporter": "python",
   "pygments_lexer": "ipython3",
   "version": "3.12.5"
  }
 },
 "nbformat": 4,
 "nbformat_minor": 2
}
