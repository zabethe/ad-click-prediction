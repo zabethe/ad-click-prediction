{
 "cells": [
  {
   "cell_type": "markdown",
   "metadata": {},
   "source": [
    "# Modeling\n",
    "\n",
    "In this notebook, we will be testing and evaluating models."
   ]
  },
  {
   "cell_type": "markdown",
   "metadata": {},
   "source": [
    "***\n",
    "\n",
    "# Initialization\n",
    "\n",
    "Importing libraries and notebooks."
   ]
  },
  {
   "cell_type": "code",
   "execution_count": null,
   "metadata": {},
   "outputs": [
    {
     "name": "stdout",
     "output_type": "stream",
     "text": [
      "Make sure the following says 'None':  None\n",
      "Make sure the following says '0':  0\n"
     ]
    }
   ],
   "source": [
    "# Setting PYTHONHASHSEED\n",
    "import os\n",
    "\n",
    "pyhashseed1 = os.environ.get('PYTHONHASHSEED')\n",
    "os.environ['PYTHONHASHSEED'] = '0'\n",
    "pyhashseed2 = os.environ.get('PYTHONHASHSEED')\n",
    "\n",
    "# NOTEBOOK EXCLUSIVE CODE \n",
    "if __name__ == \"__main__\":\n",
    "    print('Make sure the following says \\'None\\': ', pyhashseed1)\n",
    "    print('Make sure the following says \\'0\\': ', pyhashseed2)"
   ]
  },
  {
   "cell_type": "code",
   "execution_count": 2,
   "metadata": {},
   "outputs": [],
   "source": [
    "# Importing libraries\n",
    "import pandas as pd\n",
    "import numpy as np\n",
    "\n",
    "import matplotlib.pyplot as plt\n",
    "\n",
    "from IPython.display import display\n",
    "import copy\n",
    "\n",
    "# Setting seed\n",
    "np.random.seed(42)"
   ]
  },
  {
   "cell_type": "code",
   "execution_count": 3,
   "metadata": {},
   "outputs": [],
   "source": [
    "from pathlib import Path\n",
    "\n",
    "IMAGES_PATH = Path() / 'plots'\n",
    "\n",
    "def save_fig(fig_name, tight_layout=True, fig_extension='png', resolution=300):\n",
    "    '''Saves an image to the plots folder with the specified name.'''\n",
    "    path = IMAGES_PATH / f'{fig_name}.{fig_extension}'\n",
    "    if tight_layout:\n",
    "        plt.tight_layout()\n",
    "    plt.savefig(path, format=fig_extension, dpi=resolution)"
   ]
  },
  {
   "cell_type": "code",
   "execution_count": null,
   "metadata": {},
   "outputs": [],
   "source": [
    "# Importing data: label encoded\n",
    "tree_folds = list()\n",
    "folds_path = Path('data/folds')\n",
    "\n",
    "# Iterate over each fold directory\n",
    "for fold in sorted(folds_path.iterdir()):  # Ensure directories are processed in sorted order\n",
    "    if fold.is_dir():\n",
    "        # Load data from each fold's files\n",
    "        X_train = pd.read_csv(fold / 'X_train.csv')\n",
    "        X_test = pd.read_csv(fold / 'X_test.csv')\n",
    "        y_train = pd.read_csv(fold / 'y_train.csv')\n",
    "        y_test = pd.read_csv(fold / 'y_test.csv')\n",
    "\n",
    "        # Append the data as a list\n",
    "        tree_folds.append([X_train, X_test, y_train, y_test])"
   ]
  },
  {
   "cell_type": "code",
   "execution_count": 10,
   "metadata": {},
   "outputs": [],
   "source": [
    "# One-hot encoded + scaled\n",
    "folds = list()\n",
    "folds_path = Path('data/folds2')\n",
    "\n",
    "# Iterate over each fold directory\n",
    "for fold in sorted(folds_path.iterdir()):  # Ensure directories are processed in sorted order\n",
    "    if fold.is_dir():\n",
    "        # Load data from each fold's files\n",
    "        X_train = pd.read_csv(fold / 'X_train.csv')\n",
    "        X_test = pd.read_csv(fold / 'X_test.csv')\n",
    "        y_train = pd.read_csv(fold / 'y_train.csv')\n",
    "        y_test = pd.read_csv(fold / 'y_test.csv')\n",
    "\n",
    "        # Append the data as a list\n",
    "        folds.append([X_train, X_test, y_train, y_test])"
   ]
  },
  {
   "cell_type": "markdown",
   "metadata": {},
   "source": [
    "***\n",
    "\n",
    "# Feature reduction\n",
    "\n",
    "Before we implement our models, we will drop the columns that are not the ones we selected in B_preprocessing."
   ]
  },
  {
   "cell_type": "code",
   "execution_count": 27,
   "metadata": {},
   "outputs": [],
   "source": [
    "def expanded_columns(columns, compare_columns):\n",
    "    '''Find the column names that contain the names in columns.'''\n",
    "    \n",
    "    expanded_columns = []\n",
    "    \n",
    "    for col in columns:\n",
    "        for column in compare_columns:\n",
    "            if col in column:\n",
    "                expanded_columns.append(column)\n",
    "    \n",
    "    return expanded_columns"
   ]
  },
  {
   "cell_type": "code",
   "execution_count": null,
   "metadata": {},
   "outputs": [],
   "source": [
    "def KFoldSimplifier(folds, drop_columns):\n",
    "    '''Remove the specified columns in \"drop_columns\" for each of the folds in \"folds\".'''\n",
    "    for fold in folds:\n",
    "        X_train, X_test, y_train, y_test = fold\n",
    "        \n",
    "        # Drop the columns\n",
    "        X_train.drop(columns=drop_columns, inplace=True)\n",
    "        \n",
    "        X_test_cols = list(X_test.columns)\n",
    "        drop_test_columns = list(set(drop_columns).intersection(set(X_test_cols)))\n",
    "        X_test.drop(columns=drop_test_columns, inplace=True)"
   ]
  },
  {
   "cell_type": "code",
   "execution_count": 28,
   "metadata": {},
   "outputs": [],
   "source": [
    "# Keeping only features we found in B_preprocessing\n",
    "folds2 = copy.deepcopy(folds)\n",
    "tree_folds2 = copy.deepcopy(tree_folds)\n",
    "\n",
    "drop_cols = ['gender', 'browsing_history']\n",
    "folds_cols = folds[0][0].columns\n",
    "tree_folds_cols = tree_folds[0][0].columns\n",
    "\n",
    "drop_cols_folds = expanded_columns(drop_cols, folds_cols)\n",
    "drop_cols_trees = expanded_columns(drop_cols, tree_folds_cols)\n",
    "\n",
    "KFoldSimplifier(folds, drop_cols_folds)\n",
    "KFoldSimplifier(tree_folds, drop_cols_trees)"
   ]
  },
  {
   "cell_type": "code",
   "execution_count": 55,
   "metadata": {},
   "outputs": [
    {
     "data": {
      "text/html": [
       "<div>\n",
       "<style scoped>\n",
       "    .dataframe tbody tr th:only-of-type {\n",
       "        vertical-align: middle;\n",
       "    }\n",
       "\n",
       "    .dataframe tbody tr th {\n",
       "        vertical-align: top;\n",
       "    }\n",
       "\n",
       "    .dataframe thead th {\n",
       "        text-align: right;\n",
       "    }\n",
       "</style>\n",
       "<table border=\"1\" class=\"dataframe\">\n",
       "  <thead>\n",
       "    <tr style=\"text-align: right;\">\n",
       "      <th></th>\n",
       "      <th>age</th>\n",
       "      <th>time_of_day_en</th>\n",
       "      <th>device_type_Desktop</th>\n",
       "      <th>device_type_Mobile</th>\n",
       "      <th>device_type_Tablet</th>\n",
       "      <th>ad_position_Bottom</th>\n",
       "      <th>ad_position_Side</th>\n",
       "      <th>ad_position_Top</th>\n",
       "    </tr>\n",
       "  </thead>\n",
       "  <tbody>\n",
       "    <tr>\n",
       "      <th>0</th>\n",
       "      <td>0.086957</td>\n",
       "      <td>1</td>\n",
       "      <td>1</td>\n",
       "      <td>0</td>\n",
       "      <td>0</td>\n",
       "      <td>0</td>\n",
       "      <td>0</td>\n",
       "      <td>1</td>\n",
       "    </tr>\n",
       "    <tr>\n",
       "      <th>1</th>\n",
       "      <td>0.500000</td>\n",
       "      <td>1</td>\n",
       "      <td>1</td>\n",
       "      <td>0</td>\n",
       "      <td>0</td>\n",
       "      <td>0</td>\n",
       "      <td>0</td>\n",
       "      <td>1</td>\n",
       "    </tr>\n",
       "    <tr>\n",
       "      <th>2</th>\n",
       "      <td>0.500000</td>\n",
       "      <td>2</td>\n",
       "      <td>0</td>\n",
       "      <td>1</td>\n",
       "      <td>0</td>\n",
       "      <td>0</td>\n",
       "      <td>1</td>\n",
       "      <td>0</td>\n",
       "    </tr>\n",
       "    <tr>\n",
       "      <th>3</th>\n",
       "      <td>0.347826</td>\n",
       "      <td>3</td>\n",
       "      <td>0</td>\n",
       "      <td>1</td>\n",
       "      <td>0</td>\n",
       "      <td>0</td>\n",
       "      <td>0</td>\n",
       "      <td>1</td>\n",
       "    </tr>\n",
       "    <tr>\n",
       "      <th>4</th>\n",
       "      <td>0.456522</td>\n",
       "      <td>0</td>\n",
       "      <td>0</td>\n",
       "      <td>1</td>\n",
       "      <td>0</td>\n",
       "      <td>1</td>\n",
       "      <td>0</td>\n",
       "      <td>0</td>\n",
       "    </tr>\n",
       "  </tbody>\n",
       "</table>\n",
       "</div>"
      ],
      "text/plain": [
       "        age  time_of_day_en  device_type_Desktop  device_type_Mobile  \\\n",
       "0  0.086957               1                    1                   0   \n",
       "1  0.500000               1                    1                   0   \n",
       "2  0.500000               2                    0                   1   \n",
       "3  0.347826               3                    0                   1   \n",
       "4  0.456522               0                    0                   1   \n",
       "\n",
       "   device_type_Tablet  ad_position_Bottom  ad_position_Side  ad_position_Top  \n",
       "0                   0                   0                 0                1  \n",
       "1                   0                   0                 0                1  \n",
       "2                   0                   0                 1                0  \n",
       "3                   0                   0                 0                1  \n",
       "4                   0                   1                 0                0  "
      ]
     },
     "metadata": {},
     "output_type": "display_data"
    },
    {
     "data": {
      "text/html": [
       "<div>\n",
       "<style scoped>\n",
       "    .dataframe tbody tr th:only-of-type {\n",
       "        vertical-align: middle;\n",
       "    }\n",
       "\n",
       "    .dataframe tbody tr th {\n",
       "        vertical-align: top;\n",
       "    }\n",
       "\n",
       "    .dataframe thead th {\n",
       "        text-align: right;\n",
       "    }\n",
       "</style>\n",
       "<table border=\"1\" class=\"dataframe\">\n",
       "  <thead>\n",
       "    <tr style=\"text-align: right;\">\n",
       "      <th></th>\n",
       "      <th>age</th>\n",
       "      <th>time_of_day_en</th>\n",
       "      <th>device_type_en</th>\n",
       "      <th>ad_position_en</th>\n",
       "    </tr>\n",
       "  </thead>\n",
       "  <tbody>\n",
       "    <tr>\n",
       "      <th>0</th>\n",
       "      <td>22</td>\n",
       "      <td>1</td>\n",
       "      <td>0</td>\n",
       "      <td>2</td>\n",
       "    </tr>\n",
       "    <tr>\n",
       "      <th>1</th>\n",
       "      <td>41</td>\n",
       "      <td>1</td>\n",
       "      <td>0</td>\n",
       "      <td>2</td>\n",
       "    </tr>\n",
       "    <tr>\n",
       "      <th>2</th>\n",
       "      <td>41</td>\n",
       "      <td>2</td>\n",
       "      <td>1</td>\n",
       "      <td>1</td>\n",
       "    </tr>\n",
       "    <tr>\n",
       "      <th>3</th>\n",
       "      <td>34</td>\n",
       "      <td>3</td>\n",
       "      <td>1</td>\n",
       "      <td>2</td>\n",
       "    </tr>\n",
       "    <tr>\n",
       "      <th>4</th>\n",
       "      <td>39</td>\n",
       "      <td>0</td>\n",
       "      <td>1</td>\n",
       "      <td>0</td>\n",
       "    </tr>\n",
       "  </tbody>\n",
       "</table>\n",
       "</div>"
      ],
      "text/plain": [
       "   age  time_of_day_en  device_type_en  ad_position_en\n",
       "0   22               1               0               2\n",
       "1   41               1               0               2\n",
       "2   41               2               1               1\n",
       "3   34               3               1               2\n",
       "4   39               0               1               0"
      ]
     },
     "metadata": {},
     "output_type": "display_data"
    }
   ],
   "source": [
    "# Check that the correct columns were dropped\n",
    "display(folds[0][0].head())\n",
    "display(tree_folds[0][0].head())"
   ]
  },
  {
   "cell_type": "markdown",
   "metadata": {},
   "source": [
    "***\n",
    "\n",
    "# Shortlisting models\n",
    "\n",
    "We will try out a couple different types of models to shortlist the best one."
   ]
  },
  {
   "cell_type": "code",
   "execution_count": 57,
   "metadata": {},
   "outputs": [],
   "source": [
    "# Importing metrics\n",
    "from sklearn.metrics import accuracy_score, precision_score, recall_score, f1_score, roc_auc_score, log_loss"
   ]
  },
  {
   "cell_type": "code",
   "execution_count": 58,
   "metadata": {},
   "outputs": [],
   "source": [
    "# Initializing evaluation metrics\n",
    "\n",
    "def evalmetrics():\n",
    "    '''Return a dict of evaluation metric and a corresponding list.'''\n",
    "    metrics = dict()\n",
    "    metrics['accuracy_scores'] = []\n",
    "    metrics['precision_scores'] = []\n",
    "    metrics['recall_scores'] = []\n",
    "    metrics['f1_scores'] = []\n",
    "    metrics['roc_auc_scores'] = []\n",
    "    metrics['log_loss'] = []\n",
    "    \n",
    "    return metrics"
   ]
  },
  {
   "cell_type": "code",
   "execution_count": 59,
   "metadata": {},
   "outputs": [],
   "source": [
    "# Train and evaluate model\n",
    "\n",
    "def KfoldTrainEvaluate(folds, input_model, metrics):\n",
    "    '''Train and evaluate model on folds. Store metrics in 'metrics'.'''\n",
    "    \n",
    "    for fold in folds:\n",
    "        X_train, X_test, y_train, y_test = fold\n",
    "        y_train = y_train.iloc[:, 0]\n",
    "        y_test = y_test.iloc[:, 0]\n",
    "        \n",
    "        model = input_model\n",
    "        model.fit(X_train, y_train)\n",
    "        \n",
    "        y_pred = model.predict(X_test)\n",
    "        y_prob = model.predict_proba(X_test)[:, 1]\n",
    "        \n",
    "        metrics['accuracy_scores'].append(accuracy_score(y_test, y_pred))\n",
    "        metrics['precision_scores'].append(precision_score(y_test, y_pred))\n",
    "        metrics['recall_scores'].append(recall_score(y_test, y_pred))\n",
    "        metrics['f1_scores'].append(f1_score(y_test, y_pred))\n",
    "        metrics['roc_auc_scores'].append(roc_auc_score(y_test, y_prob))\n",
    "        metrics['log_loss'].append(log_loss(y_test, y_prob))"
   ]
  },
  {
   "cell_type": "code",
   "execution_count": 60,
   "metadata": {},
   "outputs": [],
   "source": [
    "# Print metric results\n",
    "\n",
    "def printmetrics(metrics, model_name):\n",
    "    '''Print metrics in an organized output.'''\n",
    "    \n",
    "    print(f'Metrics for {model_name}')\n",
    "    for metric, values in metrics.items():\n",
    "        metric_array = np.array(values)\n",
    "        metric_mean = np.mean(metric_array)\n",
    "        \n",
    "        print(f'Mean {metric}: {metric_mean:.2f}')"
   ]
  },
  {
   "cell_type": "markdown",
   "metadata": {},
   "source": [
    "## Logistic regression"
   ]
  },
  {
   "cell_type": "code",
   "execution_count": 61,
   "metadata": {},
   "outputs": [],
   "source": [
    "from sklearn.linear_model import LogisticRegression\n",
    "\n",
    "# Initializing evaluation metrics\n",
    "log_metrics = evalmetrics()\n",
    "\n",
    "log_regression = LogisticRegression()\n",
    "\n",
    "KfoldTrainEvaluate(folds, log_regression, log_metrics)"
   ]
  },
  {
   "cell_type": "code",
   "execution_count": 62,
   "metadata": {},
   "outputs": [
    {
     "name": "stdout",
     "output_type": "stream",
     "text": [
      "Metrics for Logistic Regression\n",
      "Mean accuracy_scores: 0.51\n",
      "Mean precision_scores: 0.52\n",
      "Mean recall_scores: 0.55\n",
      "Mean f1_scores: 0.53\n",
      "Mean roc_auc_scores: 0.52\n",
      "Mean log_loss: 0.70\n"
     ]
    }
   ],
   "source": [
    "printmetrics(log_metrics, 'Logistic Regression')"
   ]
  },
  {
   "cell_type": "markdown",
   "metadata": {},
   "source": [
    "## Support vector machines (SVM)"
   ]
  },
  {
   "cell_type": "code",
   "execution_count": 63,
   "metadata": {},
   "outputs": [],
   "source": [
    "from sklearn.svm import SVC\n",
    "\n",
    "# Initializing evaluation metrics\n",
    "svm_metrics = evalmetrics()\n",
    "\n",
    "svm = SVC(kernel='rbf', probability=True)\n",
    "\n",
    "KfoldTrainEvaluate(folds, svm, svm_metrics)"
   ]
  },
  {
   "cell_type": "code",
   "execution_count": 64,
   "metadata": {},
   "outputs": [
    {
     "name": "stdout",
     "output_type": "stream",
     "text": [
      "Metrics for Support Vector Machines\n",
      "Mean accuracy_scores: 0.49\n",
      "Mean precision_scores: 0.50\n",
      "Mean recall_scores: 0.56\n",
      "Mean f1_scores: 0.53\n",
      "Mean roc_auc_scores: 0.50\n",
      "Mean log_loss: 0.70\n"
     ]
    }
   ],
   "source": [
    "printmetrics(svm_metrics, 'Support Vector Machines')"
   ]
  },
  {
   "cell_type": "markdown",
   "metadata": {},
   "source": [
    "## Decision trees"
   ]
  },
  {
   "cell_type": "code",
   "execution_count": 68,
   "metadata": {},
   "outputs": [],
   "source": [
    "from sklearn.tree import DecisionTreeClassifier\n",
    "\n",
    "# Initializing evaluation metrics\n",
    "decision_metrics = evalmetrics()\n",
    "\n",
    "decisiontree = DecisionTreeClassifier()\n",
    "\n",
    "KfoldTrainEvaluate(tree_folds, decisiontree, decision_metrics)"
   ]
  },
  {
   "cell_type": "code",
   "execution_count": 69,
   "metadata": {},
   "outputs": [
    {
     "name": "stdout",
     "output_type": "stream",
     "text": [
      "Metrics for Decision Trees\n",
      "Mean accuracy_scores: 0.52\n",
      "Mean precision_scores: 0.54\n",
      "Mean recall_scores: 0.43\n",
      "Mean f1_scores: 0.48\n",
      "Mean roc_auc_scores: 0.53\n",
      "Mean log_loss: 5.95\n"
     ]
    }
   ],
   "source": [
    "printmetrics(decision_metrics, 'Decision Trees')"
   ]
  },
  {
   "cell_type": "markdown",
   "metadata": {},
   "source": [
    "## K-NN"
   ]
  },
  {
   "cell_type": "code",
   "execution_count": 70,
   "metadata": {},
   "outputs": [],
   "source": [
    "from sklearn.neighbors import KNeighborsClassifier\n",
    "\n",
    "# Initializing evaluation metrics\n",
    "knn_metrics = evalmetrics()\n",
    "\n",
    "knn = KNeighborsClassifier(n_neighbors=5)\n",
    "\n",
    "KfoldTrainEvaluate(folds, knn, knn_metrics)"
   ]
  },
  {
   "cell_type": "code",
   "execution_count": 71,
   "metadata": {},
   "outputs": [
    {
     "name": "stdout",
     "output_type": "stream",
     "text": [
      "Metrics for K-NN\n",
      "Mean accuracy_scores: 0.52\n",
      "Mean precision_scores: 0.53\n",
      "Mean recall_scores: 0.52\n",
      "Mean f1_scores: 0.52\n",
      "Mean roc_auc_scores: 0.52\n",
      "Mean log_loss: 3.60\n"
     ]
    }
   ],
   "source": [
    "printmetrics(knn_metrics, 'K-NN')"
   ]
  },
  {
   "cell_type": "markdown",
   "metadata": {},
   "source": [
    "## XG Boost"
   ]
  },
  {
   "cell_type": "code",
   "execution_count": 77,
   "metadata": {},
   "outputs": [
    {
     "name": "stderr",
     "output_type": "stream",
     "text": [
      "/opt/anaconda3/envs/dsci/lib/python3.12/site-packages/xgboost/core.py:158: UserWarning: [11:18:28] WARNING: /Users/runner/work/xgboost/xgboost/src/learner.cc:740: \n",
      "Parameters: { \"use_label_encoder\" } are not used.\n",
      "\n",
      "  warnings.warn(smsg, UserWarning)\n",
      "/opt/anaconda3/envs/dsci/lib/python3.12/site-packages/xgboost/core.py:158: UserWarning: [11:18:28] WARNING: /Users/runner/work/xgboost/xgboost/src/learner.cc:740: \n",
      "Parameters: { \"use_label_encoder\" } are not used.\n",
      "\n",
      "  warnings.warn(smsg, UserWarning)\n",
      "/opt/anaconda3/envs/dsci/lib/python3.12/site-packages/xgboost/core.py:158: UserWarning: [11:18:28] WARNING: /Users/runner/work/xgboost/xgboost/src/learner.cc:740: \n",
      "Parameters: { \"use_label_encoder\" } are not used.\n",
      "\n",
      "  warnings.warn(smsg, UserWarning)\n",
      "/opt/anaconda3/envs/dsci/lib/python3.12/site-packages/xgboost/core.py:158: UserWarning: [11:18:28] WARNING: /Users/runner/work/xgboost/xgboost/src/learner.cc:740: \n",
      "Parameters: { \"use_label_encoder\" } are not used.\n",
      "\n",
      "  warnings.warn(smsg, UserWarning)\n",
      "/opt/anaconda3/envs/dsci/lib/python3.12/site-packages/xgboost/core.py:158: UserWarning: [11:18:28] WARNING: /Users/runner/work/xgboost/xgboost/src/learner.cc:740: \n",
      "Parameters: { \"use_label_encoder\" } are not used.\n",
      "\n",
      "  warnings.warn(smsg, UserWarning)\n"
     ]
    }
   ],
   "source": [
    "from xgboost import XGBClassifier\n",
    "\n",
    "# Initializing evaluation metrics\n",
    "xgb_metrics = evalmetrics()\n",
    "\n",
    "xgb = XGBClassifier(random_state=42, use_label_encoder=False, eval_metric='logloss')\n",
    "\n",
    "KfoldTrainEvaluate(tree_folds, xgb, xgb_metrics)"
   ]
  },
  {
   "cell_type": "code",
   "execution_count": 78,
   "metadata": {},
   "outputs": [
    {
     "name": "stdout",
     "output_type": "stream",
     "text": [
      "Metrics for XGB\n",
      "Mean accuracy_scores: 0.52\n",
      "Mean precision_scores: 0.54\n",
      "Mean recall_scores: 0.48\n",
      "Mean f1_scores: 0.51\n",
      "Mean roc_auc_scores: 0.54\n",
      "Mean log_loss: 0.80\n"
     ]
    }
   ],
   "source": [
    "printmetrics(xgb_metrics, 'XGB')"
   ]
  }
 ],
 "metadata": {
  "kernelspec": {
   "display_name": "dsci",
   "language": "python",
   "name": "python3"
  },
  "language_info": {
   "codemirror_mode": {
    "name": "ipython",
    "version": 3
   },
   "file_extension": ".py",
   "mimetype": "text/x-python",
   "name": "python",
   "nbconvert_exporter": "python",
   "pygments_lexer": "ipython3",
   "version": "3.12.5"
  }
 },
 "nbformat": 4,
 "nbformat_minor": 2
}
